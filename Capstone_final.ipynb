{
 "cells": [
  {
   "cell_type": "markdown",
   "metadata": {},
   "source": [
    "# Where is the best place to settle in as a HEC Montreal new student ?"
   ]
  },
  {
   "cell_type": "markdown",
   "metadata": {},
   "source": [
    "## Introduction / Business problem\n",
    "\n",
    "This is a true-life problem I would like to solve. \n",
    "\n",
    "My daughter started studying at HEC Montreal (Quebec, Canada) but due to the Covid-19 pandemic, she could not move there from France so far. She may be able to go there next summer and will then have to find a flat or room. \n",
    "\n",
    "She may choose to live elsewhere than close to the school, to enjoy a more animated place. But we know nothing about the different neighbourhoods. \n",
    "\n",
    "The goal of this study is to determine which neighbourhood(s) is/are likely to fit her wishes, which are:\n",
    "- close to her school or more remote but close to a tube / bus station directly connected to her school\n",
    "- with at least one supermarket\n",
    "- a lively place with restaurants, bars... \n",
    "- a nearby park woud be nice.\n",
    "\n",
    "The neighborhoods should be sorted according to these criteria and shown on a choropleth map : the more criteria are fulfilled, the brighter the color.\n",
    "\n",
    "As these requirement are personal, it is difficult to find existing analysis : students who are already on site usually recommend places near to the school. And if a student is advised to prefer this or that place when they arrive, they may, in turn, reproduce this recommendation, while there are perhaps other interesting places a little further. This study may end showing that the best place(s) to go is(are) indeed the one(s) recommended, but it will ensure not to miss any opportunity."
   ]
  },
  {
   "cell_type": "markdown",
   "metadata": {},
   "source": [
    "## Data\n",
    "\n",
    "The data sets will come from:  \n",
    "- Montreal list of neighbourhoods postal codes https://en.wikipedia.org/wiki/List_of_postal_codes_of_Canada:_H  or https://en.wikipedia.org/wiki/Boroughs_of_Montreal#List_of_Montreal_boroughs\n",
    "- Foursquare for shops, restaurants, parks\n",
    "- transports company : http://www.stm.info/fr/a-propos/developpeurs?utm_campaign=menubas&utm_source=developpeurs"
   ]
  },
  {
   "cell_type": "code",
   "execution_count": null,
   "metadata": {},
   "outputs": [],
   "source": []
  }
 ],
 "metadata": {
  "kernelspec": {
   "display_name": "Python 3",
   "language": "python",
   "name": "python3"
  },
  "language_info": {
   "codemirror_mode": {
    "name": "ipython",
    "version": 3
   },
   "file_extension": ".py",
   "mimetype": "text/x-python",
   "name": "python",
   "nbconvert_exporter": "python",
   "pygments_lexer": "ipython3",
   "version": "3.8.5"
  }
 },
 "nbformat": 4,
 "nbformat_minor": 4
}
