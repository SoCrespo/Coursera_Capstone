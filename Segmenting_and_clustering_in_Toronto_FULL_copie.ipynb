{
 "cells": [
  {
   "cell_type": "markdown",
   "metadata": {},
   "source": [
    "---------------\n",
    "---------------\n",
    "# ***------------------------------------- PART 1 / 3 -------------------------------------***\n",
    "---------------\n",
    "---------------"
   ]
  },
  {
   "cell_type": "code",
   "execution_count": 1,
   "metadata": {},
   "outputs": [],
   "source": [
    "import numpy as np\n",
    "import pandas as pd\n",
    "import matplotlib.cm as cm\n",
    "import matplotlib.colors as colors\n",
    "from sklearn.cluster import KMeans\n",
    "import requests\n",
    "import geocoder\n",
    "import folium"
   ]
  },
  {
   "cell_type": "markdown",
   "metadata": {},
   "source": [
    "Let's retrieve the data from Wikipedia and import them into a dataframe with read_html:"
   ]
  },
  {
   "cell_type": "code",
   "execution_count": 2,
   "metadata": {},
   "outputs": [],
   "source": [
    "url = 'https://en.wikipedia.org/wiki/List_of_postal_codes_of_Canada:_M'\n",
    "toronto_raw = pd.read_html(url)"
   ]
  },
  {
   "cell_type": "markdown",
   "metadata": {},
   "source": [
    "What is the type of this object ?"
   ]
  },
  {
   "cell_type": "code",
   "execution_count": 3,
   "metadata": {},
   "outputs": [
    {
     "name": "stdout",
     "output_type": "stream",
     "text": [
      "<class 'list'>\n"
     ]
    }
   ],
   "source": [
    "print(type(toronto_raw))"
   ]
  },
  {
   "cell_type": "markdown",
   "metadata": {},
   "source": [
    "What is its length ?"
   ]
  },
  {
   "cell_type": "code",
   "execution_count": 4,
   "metadata": {},
   "outputs": [
    {
     "name": "stdout",
     "output_type": "stream",
     "text": [
      "3\n"
     ]
    }
   ],
   "source": [
    "print(len(toronto_raw))"
   ]
  },
  {
   "cell_type": "markdown",
   "metadata": {},
   "source": [
    "Let's examine each element and try to find if one of the may correspond to our need..."
   ]
  },
  {
   "cell_type": "code",
   "execution_count": 5,
   "metadata": {},
   "outputs": [
    {
     "data": {
      "text/html": [
       "<div>\n",
       "<style scoped>\n",
       "    .dataframe tbody tr th:only-of-type {\n",
       "        vertical-align: middle;\n",
       "    }\n",
       "\n",
       "    .dataframe tbody tr th {\n",
       "        vertical-align: top;\n",
       "    }\n",
       "\n",
       "    .dataframe thead th {\n",
       "        text-align: right;\n",
       "    }\n",
       "</style>\n",
       "<table border=\"1\" class=\"dataframe\">\n",
       "  <thead>\n",
       "    <tr style=\"text-align: right;\">\n",
       "      <th></th>\n",
       "      <th>Postal Code</th>\n",
       "      <th>Borough</th>\n",
       "      <th>Neighbourhood</th>\n",
       "    </tr>\n",
       "  </thead>\n",
       "  <tbody>\n",
       "    <tr>\n",
       "      <th>0</th>\n",
       "      <td>M1A</td>\n",
       "      <td>Not assigned</td>\n",
       "      <td>Not assigned</td>\n",
       "    </tr>\n",
       "    <tr>\n",
       "      <th>1</th>\n",
       "      <td>M2A</td>\n",
       "      <td>Not assigned</td>\n",
       "      <td>Not assigned</td>\n",
       "    </tr>\n",
       "    <tr>\n",
       "      <th>2</th>\n",
       "      <td>M3A</td>\n",
       "      <td>North York</td>\n",
       "      <td>Parkwoods</td>\n",
       "    </tr>\n",
       "    <tr>\n",
       "      <th>3</th>\n",
       "      <td>M4A</td>\n",
       "      <td>North York</td>\n",
       "      <td>Victoria Village</td>\n",
       "    </tr>\n",
       "    <tr>\n",
       "      <th>4</th>\n",
       "      <td>M5A</td>\n",
       "      <td>Downtown Toronto</td>\n",
       "      <td>Regent Park, Harbourfront</td>\n",
       "    </tr>\n",
       "    <tr>\n",
       "      <th>...</th>\n",
       "      <td>...</td>\n",
       "      <td>...</td>\n",
       "      <td>...</td>\n",
       "    </tr>\n",
       "    <tr>\n",
       "      <th>175</th>\n",
       "      <td>M5Z</td>\n",
       "      <td>Not assigned</td>\n",
       "      <td>Not assigned</td>\n",
       "    </tr>\n",
       "    <tr>\n",
       "      <th>176</th>\n",
       "      <td>M6Z</td>\n",
       "      <td>Not assigned</td>\n",
       "      <td>Not assigned</td>\n",
       "    </tr>\n",
       "    <tr>\n",
       "      <th>177</th>\n",
       "      <td>M7Z</td>\n",
       "      <td>Not assigned</td>\n",
       "      <td>Not assigned</td>\n",
       "    </tr>\n",
       "    <tr>\n",
       "      <th>178</th>\n",
       "      <td>M8Z</td>\n",
       "      <td>Etobicoke</td>\n",
       "      <td>Mimico NW, The Queensway West, South of Bloor,...</td>\n",
       "    </tr>\n",
       "    <tr>\n",
       "      <th>179</th>\n",
       "      <td>M9Z</td>\n",
       "      <td>Not assigned</td>\n",
       "      <td>Not assigned</td>\n",
       "    </tr>\n",
       "  </tbody>\n",
       "</table>\n",
       "<p>180 rows × 3 columns</p>\n",
       "</div>"
      ],
      "text/plain": [
       "    Postal Code           Borough  \\\n",
       "0           M1A      Not assigned   \n",
       "1           M2A      Not assigned   \n",
       "2           M3A        North York   \n",
       "3           M4A        North York   \n",
       "4           M5A  Downtown Toronto   \n",
       "..          ...               ...   \n",
       "175         M5Z      Not assigned   \n",
       "176         M6Z      Not assigned   \n",
       "177         M7Z      Not assigned   \n",
       "178         M8Z         Etobicoke   \n",
       "179         M9Z      Not assigned   \n",
       "\n",
       "                                         Neighbourhood  \n",
       "0                                         Not assigned  \n",
       "1                                         Not assigned  \n",
       "2                                            Parkwoods  \n",
       "3                                     Victoria Village  \n",
       "4                            Regent Park, Harbourfront  \n",
       "..                                                 ...  \n",
       "175                                       Not assigned  \n",
       "176                                       Not assigned  \n",
       "177                                       Not assigned  \n",
       "178  Mimico NW, The Queensway West, South of Bloor,...  \n",
       "179                                       Not assigned  \n",
       "\n",
       "[180 rows x 3 columns]"
      ]
     },
     "execution_count": 5,
     "metadata": {},
     "output_type": "execute_result"
    }
   ],
   "source": [
    "first, second, third = toronto_raw\n",
    "first"
   ]
  },
  {
   "cell_type": "markdown",
   "metadata": {},
   "source": [
    "second and third appeared to be much less interesting than first, so let's use this one:"
   ]
  },
  {
   "cell_type": "code",
   "execution_count": 6,
   "metadata": {},
   "outputs": [],
   "source": [
    "toronto = first"
   ]
  },
  {
   "cell_type": "markdown",
   "metadata": {},
   "source": [
    "And let's del rows where 'Borough' = 'Not assigned'"
   ]
  },
  {
   "cell_type": "code",
   "execution_count": 7,
   "metadata": {},
   "outputs": [],
   "source": [
    "toronto = toronto[toronto['Borough'] != \"Not assigned\"]"
   ]
  },
  {
   "cell_type": "code",
   "execution_count": 8,
   "metadata": {},
   "outputs": [
    {
     "data": {
      "text/html": [
       "<div>\n",
       "<style scoped>\n",
       "    .dataframe tbody tr th:only-of-type {\n",
       "        vertical-align: middle;\n",
       "    }\n",
       "\n",
       "    .dataframe tbody tr th {\n",
       "        vertical-align: top;\n",
       "    }\n",
       "\n",
       "    .dataframe thead th {\n",
       "        text-align: right;\n",
       "    }\n",
       "</style>\n",
       "<table border=\"1\" class=\"dataframe\">\n",
       "  <thead>\n",
       "    <tr style=\"text-align: right;\">\n",
       "      <th></th>\n",
       "      <th>Postal Code</th>\n",
       "      <th>Borough</th>\n",
       "      <th>Neighbourhood</th>\n",
       "    </tr>\n",
       "  </thead>\n",
       "  <tbody>\n",
       "    <tr>\n",
       "      <th>2</th>\n",
       "      <td>M3A</td>\n",
       "      <td>North York</td>\n",
       "      <td>Parkwoods</td>\n",
       "    </tr>\n",
       "    <tr>\n",
       "      <th>3</th>\n",
       "      <td>M4A</td>\n",
       "      <td>North York</td>\n",
       "      <td>Victoria Village</td>\n",
       "    </tr>\n",
       "    <tr>\n",
       "      <th>4</th>\n",
       "      <td>M5A</td>\n",
       "      <td>Downtown Toronto</td>\n",
       "      <td>Regent Park, Harbourfront</td>\n",
       "    </tr>\n",
       "    <tr>\n",
       "      <th>5</th>\n",
       "      <td>M6A</td>\n",
       "      <td>North York</td>\n",
       "      <td>Lawrence Manor, Lawrence Heights</td>\n",
       "    </tr>\n",
       "    <tr>\n",
       "      <th>6</th>\n",
       "      <td>M7A</td>\n",
       "      <td>Downtown Toronto</td>\n",
       "      <td>Queen's Park, Ontario Provincial Government</td>\n",
       "    </tr>\n",
       "  </tbody>\n",
       "</table>\n",
       "</div>"
      ],
      "text/plain": [
       "  Postal Code           Borough                                Neighbourhood\n",
       "2         M3A        North York                                    Parkwoods\n",
       "3         M4A        North York                             Victoria Village\n",
       "4         M5A  Downtown Toronto                    Regent Park, Harbourfront\n",
       "5         M6A        North York             Lawrence Manor, Lawrence Heights\n",
       "6         M7A  Downtown Toronto  Queen's Park, Ontario Provincial Government"
      ]
     },
     "execution_count": 8,
     "metadata": {},
     "output_type": "execute_result"
    }
   ],
   "source": [
    "toronto.head()"
   ]
  },
  {
   "cell_type": "markdown",
   "metadata": {},
   "source": [
    "Now reset the indexes:"
   ]
  },
  {
   "cell_type": "code",
   "execution_count": 9,
   "metadata": {},
   "outputs": [
    {
     "data": {
      "text/html": [
       "<div>\n",
       "<style scoped>\n",
       "    .dataframe tbody tr th:only-of-type {\n",
       "        vertical-align: middle;\n",
       "    }\n",
       "\n",
       "    .dataframe tbody tr th {\n",
       "        vertical-align: top;\n",
       "    }\n",
       "\n",
       "    .dataframe thead th {\n",
       "        text-align: right;\n",
       "    }\n",
       "</style>\n",
       "<table border=\"1\" class=\"dataframe\">\n",
       "  <thead>\n",
       "    <tr style=\"text-align: right;\">\n",
       "      <th></th>\n",
       "      <th>Postal Code</th>\n",
       "      <th>Borough</th>\n",
       "      <th>Neighbourhood</th>\n",
       "    </tr>\n",
       "  </thead>\n",
       "  <tbody>\n",
       "    <tr>\n",
       "      <th>0</th>\n",
       "      <td>M3A</td>\n",
       "      <td>North York</td>\n",
       "      <td>Parkwoods</td>\n",
       "    </tr>\n",
       "    <tr>\n",
       "      <th>1</th>\n",
       "      <td>M4A</td>\n",
       "      <td>North York</td>\n",
       "      <td>Victoria Village</td>\n",
       "    </tr>\n",
       "    <tr>\n",
       "      <th>2</th>\n",
       "      <td>M5A</td>\n",
       "      <td>Downtown Toronto</td>\n",
       "      <td>Regent Park, Harbourfront</td>\n",
       "    </tr>\n",
       "    <tr>\n",
       "      <th>3</th>\n",
       "      <td>M6A</td>\n",
       "      <td>North York</td>\n",
       "      <td>Lawrence Manor, Lawrence Heights</td>\n",
       "    </tr>\n",
       "    <tr>\n",
       "      <th>4</th>\n",
       "      <td>M7A</td>\n",
       "      <td>Downtown Toronto</td>\n",
       "      <td>Queen's Park, Ontario Provincial Government</td>\n",
       "    </tr>\n",
       "    <tr>\n",
       "      <th>5</th>\n",
       "      <td>M9A</td>\n",
       "      <td>Etobicoke</td>\n",
       "      <td>Islington Avenue, Humber Valley Village</td>\n",
       "    </tr>\n",
       "    <tr>\n",
       "      <th>6</th>\n",
       "      <td>M1B</td>\n",
       "      <td>Scarborough</td>\n",
       "      <td>Malvern, Rouge</td>\n",
       "    </tr>\n",
       "    <tr>\n",
       "      <th>7</th>\n",
       "      <td>M3B</td>\n",
       "      <td>North York</td>\n",
       "      <td>Don Mills</td>\n",
       "    </tr>\n",
       "    <tr>\n",
       "      <th>8</th>\n",
       "      <td>M4B</td>\n",
       "      <td>East York</td>\n",
       "      <td>Parkview Hill, Woodbine Gardens</td>\n",
       "    </tr>\n",
       "    <tr>\n",
       "      <th>9</th>\n",
       "      <td>M5B</td>\n",
       "      <td>Downtown Toronto</td>\n",
       "      <td>Garden District, Ryerson</td>\n",
       "    </tr>\n",
       "  </tbody>\n",
       "</table>\n",
       "</div>"
      ],
      "text/plain": [
       "  Postal Code           Borough                                Neighbourhood\n",
       "0         M3A        North York                                    Parkwoods\n",
       "1         M4A        North York                             Victoria Village\n",
       "2         M5A  Downtown Toronto                    Regent Park, Harbourfront\n",
       "3         M6A        North York             Lawrence Manor, Lawrence Heights\n",
       "4         M7A  Downtown Toronto  Queen's Park, Ontario Provincial Government\n",
       "5         M9A         Etobicoke      Islington Avenue, Humber Valley Village\n",
       "6         M1B       Scarborough                               Malvern, Rouge\n",
       "7         M3B        North York                                    Don Mills\n",
       "8         M4B         East York              Parkview Hill, Woodbine Gardens\n",
       "9         M5B  Downtown Toronto                     Garden District, Ryerson"
      ]
     },
     "execution_count": 9,
     "metadata": {},
     "output_type": "execute_result"
    }
   ],
   "source": [
    "toronto.reset_index(drop=True, inplace=True)\n",
    "toronto.head(10)"
   ]
  },
  {
   "cell_type": "markdown",
   "metadata": {},
   "source": [
    "Eventually, let's look at its shape :"
   ]
  },
  {
   "cell_type": "code",
   "execution_count": 10,
   "metadata": {},
   "outputs": [
    {
     "data": {
      "text/plain": [
       "(103, 3)"
      ]
     },
     "execution_count": 10,
     "metadata": {},
     "output_type": "execute_result"
    }
   ],
   "source": [
    "toronto.shape"
   ]
  },
  {
   "cell_type": "markdown",
   "metadata": {},
   "source": [
    "---------------\n",
    "---------------\n",
    "# ***------------------------------------- PART 2 / 3 -------------------------------------***\n",
    "---------------\n",
    "---------------"
   ]
  },
  {
   "cell_type": "code",
   "execution_count": 11,
   "metadata": {},
   "outputs": [],
   "source": [
    "# !pip install geocoder"
   ]
  },
  {
   "cell_type": "markdown",
   "metadata": {},
   "source": [
    "Note : as Google API did not return any result, I used arcgis instead."
   ]
  },
  {
   "cell_type": "code",
   "execution_count": 12,
   "metadata": {},
   "outputs": [
    {
     "name": "stdout",
     "output_type": "stream",
     "text": [
      "10... 20... 30... 40... 50... 60... 70... 80... 90... 100... Done!\n"
     ]
    }
   ],
   "source": [
    "lat_list = []\n",
    "long_list = []\n",
    "i = 1\n",
    "for code in toronto['Postal Code']:\n",
    "    g = geocoder.arcgis(f'{code}, Toronto, Ontario')\n",
    "    lat_list.append(g.json['lat'])\n",
    "    long_list.append(g.json['lng'])\n",
    "    if i%10 == 0: print(f'{i}...', end = ' ', flush=True)\n",
    "    i += 1\n",
    "print('Done!')   "
   ]
  },
  {
   "cell_type": "code",
   "execution_count": 13,
   "metadata": {
    "collapsed": true,
    "tags": [
     "remove-output",
     "hide-output"
    ]
   },
   "outputs": [
    {
     "name": "stderr",
     "output_type": "stream",
     "text": [
      "c:\\users\\sophi\\appdata\\local\\programs\\python\\python38-32\\lib\\site-packages\\pandas\\core\\indexing.py:1596: SettingWithCopyWarning: \n",
      "A value is trying to be set on a copy of a slice from a DataFrame.\n",
      "Try using .loc[row_indexer,col_indexer] = value instead\n",
      "\n",
      "See the caveats in the documentation: https://pandas.pydata.org/pandas-docs/stable/user_guide/indexing.html#returning-a-view-versus-a-copy\n",
      "  self.obj[key] = _infer_fill_value(value)\n",
      "c:\\users\\sophi\\appdata\\local\\programs\\python\\python38-32\\lib\\site-packages\\pandas\\core\\indexing.py:1745: SettingWithCopyWarning: \n",
      "A value is trying to be set on a copy of a slice from a DataFrame.\n",
      "Try using .loc[row_indexer,col_indexer] = value instead\n",
      "\n",
      "See the caveats in the documentation: https://pandas.pydata.org/pandas-docs/stable/user_guide/indexing.html#returning-a-view-versus-a-copy\n",
      "  isetter(ilocs[0], value)\n"
     ]
    },
    {
     "data": {
      "text/html": [
       "<div>\n",
       "<style scoped>\n",
       "    .dataframe tbody tr th:only-of-type {\n",
       "        vertical-align: middle;\n",
       "    }\n",
       "\n",
       "    .dataframe tbody tr th {\n",
       "        vertical-align: top;\n",
       "    }\n",
       "\n",
       "    .dataframe thead th {\n",
       "        text-align: right;\n",
       "    }\n",
       "</style>\n",
       "<table border=\"1\" class=\"dataframe\">\n",
       "  <thead>\n",
       "    <tr style=\"text-align: right;\">\n",
       "      <th></th>\n",
       "      <th>Postal Code</th>\n",
       "      <th>Borough</th>\n",
       "      <th>Neighbourhood</th>\n",
       "      <th>Latitude</th>\n",
       "      <th>Longitude</th>\n",
       "    </tr>\n",
       "  </thead>\n",
       "  <tbody>\n",
       "    <tr>\n",
       "      <th>0</th>\n",
       "      <td>M3A</td>\n",
       "      <td>North York</td>\n",
       "      <td>Parkwoods</td>\n",
       "      <td>43.75245</td>\n",
       "      <td>-79.32991</td>\n",
       "    </tr>\n",
       "    <tr>\n",
       "      <th>1</th>\n",
       "      <td>M4A</td>\n",
       "      <td>North York</td>\n",
       "      <td>Victoria Village</td>\n",
       "      <td>43.73057</td>\n",
       "      <td>-79.31306</td>\n",
       "    </tr>\n",
       "    <tr>\n",
       "      <th>2</th>\n",
       "      <td>M5A</td>\n",
       "      <td>Downtown Toronto</td>\n",
       "      <td>Regent Park, Harbourfront</td>\n",
       "      <td>43.65512</td>\n",
       "      <td>-79.36264</td>\n",
       "    </tr>\n",
       "    <tr>\n",
       "      <th>3</th>\n",
       "      <td>M6A</td>\n",
       "      <td>North York</td>\n",
       "      <td>Lawrence Manor, Lawrence Heights</td>\n",
       "      <td>43.72327</td>\n",
       "      <td>-79.45042</td>\n",
       "    </tr>\n",
       "    <tr>\n",
       "      <th>4</th>\n",
       "      <td>M7A</td>\n",
       "      <td>Downtown Toronto</td>\n",
       "      <td>Queen's Park, Ontario Provincial Government</td>\n",
       "      <td>43.66253</td>\n",
       "      <td>-79.39188</td>\n",
       "    </tr>\n",
       "  </tbody>\n",
       "</table>\n",
       "</div>"
      ],
      "text/plain": [
       "  Postal Code           Borough                                Neighbourhood  \\\n",
       "0         M3A        North York                                    Parkwoods   \n",
       "1         M4A        North York                             Victoria Village   \n",
       "2         M5A  Downtown Toronto                    Regent Park, Harbourfront   \n",
       "3         M6A        North York             Lawrence Manor, Lawrence Heights   \n",
       "4         M7A  Downtown Toronto  Queen's Park, Ontario Provincial Government   \n",
       "\n",
       "   Latitude  Longitude  \n",
       "0  43.75245  -79.32991  \n",
       "1  43.73057  -79.31306  \n",
       "2  43.65512  -79.36264  \n",
       "3  43.72327  -79.45042  \n",
       "4  43.66253  -79.39188  "
      ]
     },
     "execution_count": 13,
     "metadata": {},
     "output_type": "execute_result"
    }
   ],
   "source": [
    "toronto.loc[:,'Latitude'] = lat_list\n",
    "toronto.loc[:,'Longitude'] = long_list\n",
    "toronto.head()"
   ]
  },
  {
   "cell_type": "markdown",
   "metadata": {},
   "source": [
    "Coordinates seem to be slightly different... (e.g : M5A Downton Toronto is 43.65512, -79.36264 instead of 43.654250, -79.360636 which represent about 190m).\n",
    "Maybe because I did not use the Google API ?\n",
    "To avoid any problem I would rather use the csv file data but it seems not to be available (Error 501)."
   ]
  },
  {
   "cell_type": "markdown",
   "metadata": {},
   "source": [
    "---------------\n",
    "---------------\n",
    "# ***------------------------------------- PART 3 / 3 -------------------------------------***\n",
    "---------------\n",
    "---------------"
   ]
  },
  {
   "cell_type": "markdown",
   "metadata": {},
   "source": [
    "Let's select only Boroughs that contain the word \"Toronto\":"
   ]
  },
  {
   "cell_type": "code",
   "execution_count": 14,
   "metadata": {},
   "outputs": [
    {
     "data": {
      "text/html": [
       "<div>\n",
       "<style scoped>\n",
       "    .dataframe tbody tr th:only-of-type {\n",
       "        vertical-align: middle;\n",
       "    }\n",
       "\n",
       "    .dataframe tbody tr th {\n",
       "        vertical-align: top;\n",
       "    }\n",
       "\n",
       "    .dataframe thead th {\n",
       "        text-align: right;\n",
       "    }\n",
       "</style>\n",
       "<table border=\"1\" class=\"dataframe\">\n",
       "  <thead>\n",
       "    <tr style=\"text-align: right;\">\n",
       "      <th></th>\n",
       "      <th>Postal Code</th>\n",
       "      <th>Borough</th>\n",
       "      <th>Neighbourhood</th>\n",
       "      <th>Latitude</th>\n",
       "      <th>Longitude</th>\n",
       "    </tr>\n",
       "  </thead>\n",
       "  <tbody>\n",
       "    <tr>\n",
       "      <th>2</th>\n",
       "      <td>M5A</td>\n",
       "      <td>Downtown Toronto</td>\n",
       "      <td>Regent Park, Harbourfront</td>\n",
       "      <td>43.65512</td>\n",
       "      <td>-79.36264</td>\n",
       "    </tr>\n",
       "    <tr>\n",
       "      <th>4</th>\n",
       "      <td>M7A</td>\n",
       "      <td>Downtown Toronto</td>\n",
       "      <td>Queen's Park, Ontario Provincial Government</td>\n",
       "      <td>43.66253</td>\n",
       "      <td>-79.39188</td>\n",
       "    </tr>\n",
       "    <tr>\n",
       "      <th>9</th>\n",
       "      <td>M5B</td>\n",
       "      <td>Downtown Toronto</td>\n",
       "      <td>Garden District, Ryerson</td>\n",
       "      <td>43.65739</td>\n",
       "      <td>-79.37804</td>\n",
       "    </tr>\n",
       "    <tr>\n",
       "      <th>15</th>\n",
       "      <td>M5C</td>\n",
       "      <td>Downtown Toronto</td>\n",
       "      <td>St. James Town</td>\n",
       "      <td>43.65215</td>\n",
       "      <td>-79.37587</td>\n",
       "    </tr>\n",
       "    <tr>\n",
       "      <th>19</th>\n",
       "      <td>M4E</td>\n",
       "      <td>East Toronto</td>\n",
       "      <td>The Beaches</td>\n",
       "      <td>43.67709</td>\n",
       "      <td>-79.29547</td>\n",
       "    </tr>\n",
       "  </tbody>\n",
       "</table>\n",
       "</div>"
      ],
      "text/plain": [
       "   Postal Code           Borough                                Neighbourhood  \\\n",
       "2          M5A  Downtown Toronto                    Regent Park, Harbourfront   \n",
       "4          M7A  Downtown Toronto  Queen's Park, Ontario Provincial Government   \n",
       "9          M5B  Downtown Toronto                     Garden District, Ryerson   \n",
       "15         M5C  Downtown Toronto                               St. James Town   \n",
       "19         M4E      East Toronto                                  The Beaches   \n",
       "\n",
       "    Latitude  Longitude  \n",
       "2   43.65512  -79.36264  \n",
       "4   43.66253  -79.39188  \n",
       "9   43.65739  -79.37804  \n",
       "15  43.65215  -79.37587  \n",
       "19  43.67709  -79.29547  "
      ]
     },
     "execution_count": 14,
     "metadata": {},
     "output_type": "execute_result"
    }
   ],
   "source": [
    "toronto = toronto[toronto['Borough'].str.contains('Toronto')]\n",
    "toronto.head()"
   ]
  },
  {
   "cell_type": "markdown",
   "metadata": {},
   "source": [
    "Now let's retrieve information from Foursquare :"
   ]
  },
  {
   "cell_type": "code",
   "execution_count": 15,
   "metadata": {
    "collapsed": true
   },
   "outputs": [],
   "source": [
    "CLIENT_ID = '...' # your Foursquare ID\n",
    "CLIENT_SECRET = '...' # your Foursquare Secret\n",
    "VERSION = '20180605' # Foursquare API version\n",
    "LIMIT = 100 # A default Foursquare API limit value"
   ]
  },
  {
   "cell_type": "code",
   "execution_count": 17,
   "metadata": {},
   "outputs": [],
   "source": [
    "def get_nearby_venues(names, latitudes, longitudes, radius=500):\n",
    "    \n",
    "    venues_list=[]\n",
    "    for name, lat, lng in zip(names, latitudes, longitudes):\n",
    "           \n",
    "        # create the API request URL\n",
    "        url = 'https://api.foursquare.com/v2/venues/explore?&client_id={}&client_secret={}&v={}&ll={},{}&radius={}&limit={}'.format(\n",
    "            CLIENT_ID, \n",
    "            CLIENT_SECRET, \n",
    "            VERSION, \n",
    "            lat, \n",
    "            lng, \n",
    "            radius, \n",
    "            LIMIT)\n",
    "            \n",
    "        # make the GET request\n",
    "        results = requests.get(url).json()[\"response\"]['groups'][0]['items']\n",
    "        \n",
    "        # return only relevant information for each nearby venue\n",
    "        venues_list.append([(\n",
    "            name, \n",
    "            lat, \n",
    "            lng, \n",
    "            v['venue']['name'], \n",
    "            v['venue']['location']['lat'], \n",
    "            v['venue']['location']['lng'],  \n",
    "            v['venue']['categories'][0]['name']) for v in results])\n",
    "\n",
    "    nearby_venues = pd.DataFrame([item for venue_list in venues_list for item in venue_list])\n",
    "    nearby_venues.columns = ['Neighbourhood', \n",
    "                  'Neighborhood Latitude', \n",
    "                  'Neighborhood Longitude', \n",
    "                  'Venue', \n",
    "                  'Venue Latitude', \n",
    "                  'Venue Longitude', \n",
    "                  'Venue Category']\n",
    "    \n",
    "    return(nearby_venues)"
   ]
  },
  {
   "cell_type": "code",
   "execution_count": 18,
   "metadata": {},
   "outputs": [
    {
     "data": {
      "text/html": [
       "<div>\n",
       "<style scoped>\n",
       "    .dataframe tbody tr th:only-of-type {\n",
       "        vertical-align: middle;\n",
       "    }\n",
       "\n",
       "    .dataframe tbody tr th {\n",
       "        vertical-align: top;\n",
       "    }\n",
       "\n",
       "    .dataframe thead th {\n",
       "        text-align: right;\n",
       "    }\n",
       "</style>\n",
       "<table border=\"1\" class=\"dataframe\">\n",
       "  <thead>\n",
       "    <tr style=\"text-align: right;\">\n",
       "      <th></th>\n",
       "      <th>Neighbourhood</th>\n",
       "      <th>Neighborhood Latitude</th>\n",
       "      <th>Neighborhood Longitude</th>\n",
       "      <th>Venue</th>\n",
       "      <th>Venue Latitude</th>\n",
       "      <th>Venue Longitude</th>\n",
       "      <th>Venue Category</th>\n",
       "    </tr>\n",
       "  </thead>\n",
       "  <tbody>\n",
       "    <tr>\n",
       "      <th>0</th>\n",
       "      <td>Regent Park, Harbourfront</td>\n",
       "      <td>43.65512</td>\n",
       "      <td>-79.36264</td>\n",
       "      <td>Roselle Desserts</td>\n",
       "      <td>43.653447</td>\n",
       "      <td>-79.362017</td>\n",
       "      <td>Bakery</td>\n",
       "    </tr>\n",
       "    <tr>\n",
       "      <th>1</th>\n",
       "      <td>Regent Park, Harbourfront</td>\n",
       "      <td>43.65512</td>\n",
       "      <td>-79.36264</td>\n",
       "      <td>Tandem Coffee</td>\n",
       "      <td>43.653559</td>\n",
       "      <td>-79.361809</td>\n",
       "      <td>Coffee Shop</td>\n",
       "    </tr>\n",
       "    <tr>\n",
       "      <th>2</th>\n",
       "      <td>Regent Park, Harbourfront</td>\n",
       "      <td>43.65512</td>\n",
       "      <td>-79.36264</td>\n",
       "      <td>Figs Breakfast &amp; Lunch</td>\n",
       "      <td>43.655675</td>\n",
       "      <td>-79.364503</td>\n",
       "      <td>Breakfast Spot</td>\n",
       "    </tr>\n",
       "    <tr>\n",
       "      <th>3</th>\n",
       "      <td>Regent Park, Harbourfront</td>\n",
       "      <td>43.65512</td>\n",
       "      <td>-79.36264</td>\n",
       "      <td>The Yoga Lounge</td>\n",
       "      <td>43.655515</td>\n",
       "      <td>-79.364955</td>\n",
       "      <td>Yoga Studio</td>\n",
       "    </tr>\n",
       "    <tr>\n",
       "      <th>4</th>\n",
       "      <td>Regent Park, Harbourfront</td>\n",
       "      <td>43.65512</td>\n",
       "      <td>-79.36264</td>\n",
       "      <td>Body Blitz Spa East</td>\n",
       "      <td>43.654735</td>\n",
       "      <td>-79.359874</td>\n",
       "      <td>Spa</td>\n",
       "    </tr>\n",
       "  </tbody>\n",
       "</table>\n",
       "</div>"
      ],
      "text/plain": [
       "               Neighbourhood  Neighborhood Latitude  Neighborhood Longitude  \\\n",
       "0  Regent Park, Harbourfront               43.65512               -79.36264   \n",
       "1  Regent Park, Harbourfront               43.65512               -79.36264   \n",
       "2  Regent Park, Harbourfront               43.65512               -79.36264   \n",
       "3  Regent Park, Harbourfront               43.65512               -79.36264   \n",
       "4  Regent Park, Harbourfront               43.65512               -79.36264   \n",
       "\n",
       "                    Venue  Venue Latitude  Venue Longitude  Venue Category  \n",
       "0        Roselle Desserts       43.653447       -79.362017          Bakery  \n",
       "1           Tandem Coffee       43.653559       -79.361809     Coffee Shop  \n",
       "2  Figs Breakfast & Lunch       43.655675       -79.364503  Breakfast Spot  \n",
       "3         The Yoga Lounge       43.655515       -79.364955     Yoga Studio  \n",
       "4     Body Blitz Spa East       43.654735       -79.359874             Spa  "
      ]
     },
     "execution_count": 18,
     "metadata": {},
     "output_type": "execute_result"
    }
   ],
   "source": [
    "toronto_venues = get_nearby_venues(names=toronto['Neighbourhood'],\n",
    "                                  latitudes=toronto['Latitude'], \n",
    "                                  longitudes=toronto['Longitude'])\n",
    "toronto_venues.head()"
   ]
  },
  {
   "cell_type": "markdown",
   "metadata": {},
   "source": [
    "Let's transform our dataframe so that we have numerical values instead of strings:"
   ]
  },
  {
   "cell_type": "code",
   "execution_count": 19,
   "metadata": {},
   "outputs": [
    {
     "data": {
      "text/html": [
       "<div>\n",
       "<style scoped>\n",
       "    .dataframe tbody tr th:only-of-type {\n",
       "        vertical-align: middle;\n",
       "    }\n",
       "\n",
       "    .dataframe tbody tr th {\n",
       "        vertical-align: top;\n",
       "    }\n",
       "\n",
       "    .dataframe thead th {\n",
       "        text-align: right;\n",
       "    }\n",
       "</style>\n",
       "<table border=\"1\" class=\"dataframe\">\n",
       "  <thead>\n",
       "    <tr style=\"text-align: right;\">\n",
       "      <th></th>\n",
       "      <th>Neighbourhood</th>\n",
       "      <th>Accessories Store</th>\n",
       "      <th>Afghan Restaurant</th>\n",
       "      <th>American Restaurant</th>\n",
       "      <th>Antique Shop</th>\n",
       "      <th>Aquarium</th>\n",
       "      <th>Art Gallery</th>\n",
       "      <th>Art Museum</th>\n",
       "      <th>Arts &amp; Crafts Store</th>\n",
       "      <th>Asian Restaurant</th>\n",
       "      <th>...</th>\n",
       "      <th>Train Station</th>\n",
       "      <th>Vegetarian / Vegan Restaurant</th>\n",
       "      <th>Veterinarian</th>\n",
       "      <th>Video Game Store</th>\n",
       "      <th>Vietnamese Restaurant</th>\n",
       "      <th>Wine Bar</th>\n",
       "      <th>Wine Shop</th>\n",
       "      <th>Wings Joint</th>\n",
       "      <th>Women's Store</th>\n",
       "      <th>Yoga Studio</th>\n",
       "    </tr>\n",
       "  </thead>\n",
       "  <tbody>\n",
       "    <tr>\n",
       "      <th>0</th>\n",
       "      <td>Berczy Park</td>\n",
       "      <td>0.000000</td>\n",
       "      <td>0.0</td>\n",
       "      <td>0.00</td>\n",
       "      <td>0.016667</td>\n",
       "      <td>0.0</td>\n",
       "      <td>0.016667</td>\n",
       "      <td>0.000000</td>\n",
       "      <td>0.000000</td>\n",
       "      <td>0.000000</td>\n",
       "      <td>...</td>\n",
       "      <td>0.000000</td>\n",
       "      <td>0.016667</td>\n",
       "      <td>0.000000</td>\n",
       "      <td>0.000000</td>\n",
       "      <td>0.000000</td>\n",
       "      <td>0.000000</td>\n",
       "      <td>0.0</td>\n",
       "      <td>0.0</td>\n",
       "      <td>0.0</td>\n",
       "      <td>0.016667</td>\n",
       "    </tr>\n",
       "    <tr>\n",
       "      <th>1</th>\n",
       "      <td>Brockton, Parkdale Village, Exhibition Place</td>\n",
       "      <td>0.011494</td>\n",
       "      <td>0.0</td>\n",
       "      <td>0.00</td>\n",
       "      <td>0.000000</td>\n",
       "      <td>0.0</td>\n",
       "      <td>0.000000</td>\n",
       "      <td>0.000000</td>\n",
       "      <td>0.022989</td>\n",
       "      <td>0.011494</td>\n",
       "      <td>...</td>\n",
       "      <td>0.000000</td>\n",
       "      <td>0.011494</td>\n",
       "      <td>0.000000</td>\n",
       "      <td>0.000000</td>\n",
       "      <td>0.000000</td>\n",
       "      <td>0.000000</td>\n",
       "      <td>0.0</td>\n",
       "      <td>0.0</td>\n",
       "      <td>0.0</td>\n",
       "      <td>0.011494</td>\n",
       "    </tr>\n",
       "    <tr>\n",
       "      <th>2</th>\n",
       "      <td>Business reply mail Processing Centre, South C...</td>\n",
       "      <td>0.000000</td>\n",
       "      <td>0.0</td>\n",
       "      <td>0.02</td>\n",
       "      <td>0.000000</td>\n",
       "      <td>0.0</td>\n",
       "      <td>0.010000</td>\n",
       "      <td>0.000000</td>\n",
       "      <td>0.010000</td>\n",
       "      <td>0.030000</td>\n",
       "      <td>...</td>\n",
       "      <td>0.000000</td>\n",
       "      <td>0.020000</td>\n",
       "      <td>0.000000</td>\n",
       "      <td>0.000000</td>\n",
       "      <td>0.000000</td>\n",
       "      <td>0.010000</td>\n",
       "      <td>0.0</td>\n",
       "      <td>0.0</td>\n",
       "      <td>0.0</td>\n",
       "      <td>0.000000</td>\n",
       "    </tr>\n",
       "    <tr>\n",
       "      <th>3</th>\n",
       "      <td>CN Tower, King and Spadina, Railway Lands, Har...</td>\n",
       "      <td>0.000000</td>\n",
       "      <td>0.0</td>\n",
       "      <td>0.00</td>\n",
       "      <td>0.000000</td>\n",
       "      <td>0.0</td>\n",
       "      <td>0.000000</td>\n",
       "      <td>0.000000</td>\n",
       "      <td>0.000000</td>\n",
       "      <td>0.013158</td>\n",
       "      <td>...</td>\n",
       "      <td>0.013158</td>\n",
       "      <td>0.000000</td>\n",
       "      <td>0.013158</td>\n",
       "      <td>0.000000</td>\n",
       "      <td>0.000000</td>\n",
       "      <td>0.000000</td>\n",
       "      <td>0.0</td>\n",
       "      <td>0.0</td>\n",
       "      <td>0.0</td>\n",
       "      <td>0.013158</td>\n",
       "    </tr>\n",
       "    <tr>\n",
       "      <th>4</th>\n",
       "      <td>Central Bay Street</td>\n",
       "      <td>0.000000</td>\n",
       "      <td>0.0</td>\n",
       "      <td>0.00</td>\n",
       "      <td>0.000000</td>\n",
       "      <td>0.0</td>\n",
       "      <td>0.013158</td>\n",
       "      <td>0.013158</td>\n",
       "      <td>0.000000</td>\n",
       "      <td>0.000000</td>\n",
       "      <td>...</td>\n",
       "      <td>0.000000</td>\n",
       "      <td>0.000000</td>\n",
       "      <td>0.000000</td>\n",
       "      <td>0.013158</td>\n",
       "      <td>0.013158</td>\n",
       "      <td>0.013158</td>\n",
       "      <td>0.0</td>\n",
       "      <td>0.0</td>\n",
       "      <td>0.0</td>\n",
       "      <td>0.000000</td>\n",
       "    </tr>\n",
       "  </tbody>\n",
       "</table>\n",
       "<p>5 rows × 233 columns</p>\n",
       "</div>"
      ],
      "text/plain": [
       "                                       Neighbourhood  Accessories Store  \\\n",
       "0                                        Berczy Park           0.000000   \n",
       "1       Brockton, Parkdale Village, Exhibition Place           0.011494   \n",
       "2  Business reply mail Processing Centre, South C...           0.000000   \n",
       "3  CN Tower, King and Spadina, Railway Lands, Har...           0.000000   \n",
       "4                                 Central Bay Street           0.000000   \n",
       "\n",
       "   Afghan Restaurant  American Restaurant  Antique Shop  Aquarium  \\\n",
       "0                0.0                 0.00      0.016667       0.0   \n",
       "1                0.0                 0.00      0.000000       0.0   \n",
       "2                0.0                 0.02      0.000000       0.0   \n",
       "3                0.0                 0.00      0.000000       0.0   \n",
       "4                0.0                 0.00      0.000000       0.0   \n",
       "\n",
       "   Art Gallery  Art Museum  Arts & Crafts Store  Asian Restaurant  ...  \\\n",
       "0     0.016667    0.000000             0.000000          0.000000  ...   \n",
       "1     0.000000    0.000000             0.022989          0.011494  ...   \n",
       "2     0.010000    0.000000             0.010000          0.030000  ...   \n",
       "3     0.000000    0.000000             0.000000          0.013158  ...   \n",
       "4     0.013158    0.013158             0.000000          0.000000  ...   \n",
       "\n",
       "   Train Station  Vegetarian / Vegan Restaurant  Veterinarian  \\\n",
       "0       0.000000                       0.016667      0.000000   \n",
       "1       0.000000                       0.011494      0.000000   \n",
       "2       0.000000                       0.020000      0.000000   \n",
       "3       0.013158                       0.000000      0.013158   \n",
       "4       0.000000                       0.000000      0.000000   \n",
       "\n",
       "   Video Game Store  Vietnamese Restaurant  Wine Bar  Wine Shop  Wings Joint  \\\n",
       "0          0.000000               0.000000  0.000000        0.0          0.0   \n",
       "1          0.000000               0.000000  0.000000        0.0          0.0   \n",
       "2          0.000000               0.000000  0.010000        0.0          0.0   \n",
       "3          0.000000               0.000000  0.000000        0.0          0.0   \n",
       "4          0.013158               0.013158  0.013158        0.0          0.0   \n",
       "\n",
       "   Women's Store  Yoga Studio  \n",
       "0            0.0     0.016667  \n",
       "1            0.0     0.011494  \n",
       "2            0.0     0.000000  \n",
       "3            0.0     0.013158  \n",
       "4            0.0     0.000000  \n",
       "\n",
       "[5 rows x 233 columns]"
      ]
     },
     "execution_count": 19,
     "metadata": {},
     "output_type": "execute_result"
    }
   ],
   "source": [
    "# one hot encoding\n",
    "toronto_onehot = pd.get_dummies(toronto_venues[['Venue Category']], prefix=\"\", prefix_sep=\"\")\n",
    "\n",
    "# add neighborhood column back to dataframe\n",
    "toronto_onehot['Neighbourhood'] = toronto_venues['Neighbourhood'] \n",
    "\n",
    "# move neighborhood column to the first column\n",
    "fixed_columns = [toronto_onehot.columns[-1]] + list(toronto_onehot.columns[:-1])\n",
    "toronto_onehot = toronto_onehot[fixed_columns]\n",
    "toronto_grouped = toronto_onehot.groupby('Neighbourhood').mean().reset_index()\n",
    "toronto_grouped.head()"
   ]
  },
  {
   "cell_type": "code",
   "execution_count": 20,
   "metadata": {},
   "outputs": [],
   "source": [
    "def return_most_common_venues(row, num_top_venues):\n",
    "    row_categories = row.iloc[1:]\n",
    "    row_categories_sorted = row_categories.sort_values(ascending=False)\n",
    "    \n",
    "    return row_categories_sorted.index.values[0:num_top_venues]"
   ]
  },
  {
   "cell_type": "code",
   "execution_count": 21,
   "metadata": {},
   "outputs": [
    {
     "data": {
      "text/html": [
       "<div>\n",
       "<style scoped>\n",
       "    .dataframe tbody tr th:only-of-type {\n",
       "        vertical-align: middle;\n",
       "    }\n",
       "\n",
       "    .dataframe tbody tr th {\n",
       "        vertical-align: top;\n",
       "    }\n",
       "\n",
       "    .dataframe thead th {\n",
       "        text-align: right;\n",
       "    }\n",
       "</style>\n",
       "<table border=\"1\" class=\"dataframe\">\n",
       "  <thead>\n",
       "    <tr style=\"text-align: right;\">\n",
       "      <th></th>\n",
       "      <th>Neighbourhood</th>\n",
       "      <th>1st Most Common Venue</th>\n",
       "      <th>2nd Most Common Venue</th>\n",
       "      <th>3rd Most Common Venue</th>\n",
       "      <th>4th Most Common Venue</th>\n",
       "      <th>5th Most Common Venue</th>\n",
       "      <th>6th Most Common Venue</th>\n",
       "      <th>7th Most Common Venue</th>\n",
       "      <th>8th Most Common Venue</th>\n",
       "      <th>9th Most Common Venue</th>\n",
       "      <th>10th Most Common Venue</th>\n",
       "    </tr>\n",
       "  </thead>\n",
       "  <tbody>\n",
       "    <tr>\n",
       "      <th>0</th>\n",
       "      <td>Berczy Park</td>\n",
       "      <td>Coffee Shop</td>\n",
       "      <td>Restaurant</td>\n",
       "      <td>Bakery</td>\n",
       "      <td>Farmers Market</td>\n",
       "      <td>Cocktail Bar</td>\n",
       "      <td>Beer Bar</td>\n",
       "      <td>Cheese Shop</td>\n",
       "      <td>Breakfast Spot</td>\n",
       "      <td>Seafood Restaurant</td>\n",
       "      <td>Pub</td>\n",
       "    </tr>\n",
       "    <tr>\n",
       "      <th>1</th>\n",
       "      <td>Brockton, Parkdale Village, Exhibition Place</td>\n",
       "      <td>Café</td>\n",
       "      <td>Bar</td>\n",
       "      <td>Coffee Shop</td>\n",
       "      <td>Restaurant</td>\n",
       "      <td>Sandwich Place</td>\n",
       "      <td>Gift Shop</td>\n",
       "      <td>Nightclub</td>\n",
       "      <td>Supermarket</td>\n",
       "      <td>Japanese Restaurant</td>\n",
       "      <td>Furniture / Home Store</td>\n",
       "    </tr>\n",
       "    <tr>\n",
       "      <th>2</th>\n",
       "      <td>Business reply mail Processing Centre, South C...</td>\n",
       "      <td>Coffee Shop</td>\n",
       "      <td>Hotel</td>\n",
       "      <td>Restaurant</td>\n",
       "      <td>Italian Restaurant</td>\n",
       "      <td>Café</td>\n",
       "      <td>Asian Restaurant</td>\n",
       "      <td>Bar</td>\n",
       "      <td>Sushi Restaurant</td>\n",
       "      <td>Seafood Restaurant</td>\n",
       "      <td>Pub</td>\n",
       "    </tr>\n",
       "    <tr>\n",
       "      <th>3</th>\n",
       "      <td>CN Tower, King and Spadina, Railway Lands, Har...</td>\n",
       "      <td>Italian Restaurant</td>\n",
       "      <td>Coffee Shop</td>\n",
       "      <td>Café</td>\n",
       "      <td>Bar</td>\n",
       "      <td>Park</td>\n",
       "      <td>French Restaurant</td>\n",
       "      <td>Restaurant</td>\n",
       "      <td>Speakeasy</td>\n",
       "      <td>Sandwich Place</td>\n",
       "      <td>Bakery</td>\n",
       "    </tr>\n",
       "    <tr>\n",
       "      <th>4</th>\n",
       "      <td>Central Bay Street</td>\n",
       "      <td>Coffee Shop</td>\n",
       "      <td>Clothing Store</td>\n",
       "      <td>Plaza</td>\n",
       "      <td>Bookstore</td>\n",
       "      <td>Hotel</td>\n",
       "      <td>Middle Eastern Restaurant</td>\n",
       "      <td>Sandwich Place</td>\n",
       "      <td>Café</td>\n",
       "      <td>Restaurant</td>\n",
       "      <td>Sushi Restaurant</td>\n",
       "    </tr>\n",
       "  </tbody>\n",
       "</table>\n",
       "</div>"
      ],
      "text/plain": [
       "                                       Neighbourhood 1st Most Common Venue  \\\n",
       "0                                        Berczy Park           Coffee Shop   \n",
       "1       Brockton, Parkdale Village, Exhibition Place                  Café   \n",
       "2  Business reply mail Processing Centre, South C...           Coffee Shop   \n",
       "3  CN Tower, King and Spadina, Railway Lands, Har...    Italian Restaurant   \n",
       "4                                 Central Bay Street           Coffee Shop   \n",
       "\n",
       "  2nd Most Common Venue 3rd Most Common Venue 4th Most Common Venue  \\\n",
       "0            Restaurant                Bakery        Farmers Market   \n",
       "1                   Bar           Coffee Shop            Restaurant   \n",
       "2                 Hotel            Restaurant    Italian Restaurant   \n",
       "3           Coffee Shop                  Café                   Bar   \n",
       "4        Clothing Store                 Plaza             Bookstore   \n",
       "\n",
       "  5th Most Common Venue      6th Most Common Venue 7th Most Common Venue  \\\n",
       "0          Cocktail Bar                   Beer Bar           Cheese Shop   \n",
       "1        Sandwich Place                  Gift Shop             Nightclub   \n",
       "2                  Café           Asian Restaurant                   Bar   \n",
       "3                  Park          French Restaurant            Restaurant   \n",
       "4                 Hotel  Middle Eastern Restaurant        Sandwich Place   \n",
       "\n",
       "  8th Most Common Venue 9th Most Common Venue  10th Most Common Venue  \n",
       "0        Breakfast Spot    Seafood Restaurant                     Pub  \n",
       "1           Supermarket   Japanese Restaurant  Furniture / Home Store  \n",
       "2      Sushi Restaurant    Seafood Restaurant                     Pub  \n",
       "3             Speakeasy        Sandwich Place                  Bakery  \n",
       "4                  Café            Restaurant        Sushi Restaurant  "
      ]
     },
     "execution_count": 21,
     "metadata": {},
     "output_type": "execute_result"
    }
   ],
   "source": [
    "num_top_venues = 10\n",
    "\n",
    "indicators = ['st', 'nd', 'rd']\n",
    "\n",
    "# create columns according to number of top venues\n",
    "columns = ['Neighbourhood']\n",
    "for ind in np.arange(num_top_venues):\n",
    "    try:\n",
    "        columns.append('{}{} Most Common Venue'.format(ind+1, indicators[ind]))\n",
    "    except:\n",
    "        columns.append('{}th Most Common Venue'.format(ind+1))\n",
    "\n",
    "# create a new dataframe\n",
    "neighborhoods_venues_sorted = pd.DataFrame(columns=columns)\n",
    "neighborhoods_venues_sorted['Neighbourhood'] = toronto_grouped['Neighbourhood']\n",
    "\n",
    "for ind in np.arange(toronto_grouped.shape[0]):\n",
    "    neighborhoods_venues_sorted.iloc[ind, 1:] = return_most_common_venues(toronto_grouped.iloc[ind, :], num_top_venues)\n",
    "\n",
    "neighborhoods_venues_sorted.head()\n"
   ]
  },
  {
   "cell_type": "markdown",
   "metadata": {},
   "source": [
    "It's time for clustering ! "
   ]
  },
  {
   "cell_type": "code",
   "execution_count": 22,
   "metadata": {},
   "outputs": [
    {
     "data": {
      "text/plain": [
       "array([4, 4, 4, 4, 4, 4, 4, 4, 4, 4, 4, 4, 2, 4, 4, 1, 4, 4, 3, 4, 1, 1,\n",
       "       4, 4, 4, 4, 1, 4, 4, 4, 4, 4, 0, 4, 1, 4, 4, 4])"
      ]
     },
     "execution_count": 22,
     "metadata": {},
     "output_type": "execute_result"
    }
   ],
   "source": [
    "# set number of clusters\n",
    "kclusters = 5\n",
    "\n",
    "toronto_grouped_clustering = toronto_grouped.drop('Neighbourhood', 1)\n",
    "\n",
    "# run k-means clustering\n",
    "kmeans = KMeans(n_clusters=kclusters, random_state=0).fit(toronto_grouped_clustering)\n",
    "\n",
    "# check cluster labels generated for each row in the dataframe\n",
    "labels = kmeans.labels_ \n",
    "labels"
   ]
  },
  {
   "cell_type": "markdown",
   "metadata": {},
   "source": [
    "Let's add labels to our dataset..."
   ]
  },
  {
   "cell_type": "code",
   "execution_count": 23,
   "metadata": {},
   "outputs": [],
   "source": [
    "neighborhoods_venues_sorted.insert(0, 'Cluster', labels)\n",
    "toronto_merged = toronto\n",
    "toronto_merged = toronto_merged.join(neighborhoods_venues_sorted.set_index('Neighbourhood'), on='Neighbourhood')\n",
    "toronto_merged.dropna(inplace=True)\n",
    "toronto_merged['Cluster']= toronto_merged['Cluster'].astype('int')"
   ]
  },
  {
   "cell_type": "markdown",
   "metadata": {},
   "source": [
    "And eventually, let's create a map that shows colored clusters."
   ]
  },
  {
   "cell_type": "code",
   "execution_count": 24,
   "metadata": {},
   "outputs": [
    {
     "data": {
      "text/html": [
       "<div style=\"width:100%;\"><div style=\"position:relative;width:100%;height:0;padding-bottom:60%;\"><span style=\"color:#565656\">Make this Notebook Trusted to load map: File -> Trust Notebook</span><iframe src=\"about:blank\" style=\"position:absolute;width:100%;height:100%;left:0;top:0;border:none !important;\" data-html=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 onload=\"this.contentDocument.open();this.contentDocument.write(atob(this.getAttribute('data-html')));this.contentDocument.close();\" allowfullscreen webkitallowfullscreen mozallowfullscreen></iframe></div></div>"
      ],
      "text/plain": [
       "<folium.folium.Map at 0x12cf05b0>"
      ]
     },
     "execution_count": 24,
     "metadata": {},
     "output_type": "execute_result"
    }
   ],
   "source": [
    "# create map\n",
    "map_clusters = folium.Map(location=[43.651070, -79.347015], zoom_start=11)\n",
    "\n",
    "# set color scheme for the clusters\n",
    "x = np.arange(kclusters)\n",
    "ys = [i + x + (i*x)**2 for i in range(kclusters)]\n",
    "colors_array = cm.rainbow(np.linspace(0, 1, len(ys)))\n",
    "rainbow = [colors.rgb2hex(i) for i in colors_array]\n",
    "\n",
    "# add markers to the map\n",
    "markers_colors = []\n",
    "for lat, lon, poi, cluster in zip(toronto_merged['Latitude'], toronto_merged['Longitude'],toronto_merged['Neighbourhood'], toronto_merged['Cluster']):\n",
    "    label = folium.Popup(str(poi) + ' Cluster ' + str(cluster), parse_html=True)\n",
    "    folium.CircleMarker(\n",
    "        [lat, lon],\n",
    "        radius=5,\n",
    "        popup=label,\n",
    "        color=rainbow[cluster-1],\n",
    "        fill=True,\n",
    "        #fill_color=rainbow[cluster-1],\n",
    "        fill_opacity=0.7).add_to(map_clusters)\n",
    "       \n",
    "map_clusters"
   ]
  },
  {
   "cell_type": "code",
   "execution_count": null,
   "metadata": {},
   "outputs": [],
   "source": []
  }
 ],
 "metadata": {
  "celltoolbar": "Aucun(e)",
  "kernelspec": {
   "display_name": "Python 3",
   "language": "python",
   "name": "python3"
  },
  "language_info": {
   "codemirror_mode": {
    "name": "ipython",
    "version": 3
   },
   "file_extension": ".py",
   "mimetype": "text/x-python",
   "name": "python",
   "nbconvert_exporter": "python",
   "pygments_lexer": "ipython3",
   "version": "3.8.5"
  }
 },
 "nbformat": 4,
 "nbformat_minor": 4
}
